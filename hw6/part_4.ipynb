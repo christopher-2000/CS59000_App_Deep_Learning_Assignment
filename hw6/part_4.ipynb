{
  "nbformat": 4,
  "nbformat_minor": 0,
  "metadata": {
    "colab": {
      "provenance": [],
      "machine_shape": "hm",
      "gpuType": "A100"
    },
    "kernelspec": {
      "name": "python3",
      "display_name": "Python 3"
    },
    "language_info": {
      "name": "python"
    },
    "accelerator": "GPU"
  },
  "cells": [
    {
      "cell_type": "code",
      "source": [
        "import kagglehub\n",
        "\n",
        "# Download latest version\n",
        "path = kagglehub.dataset_download(\"birdy654/cifake-real-and-ai-generated-synthetic-images\")\n",
        "\n",
        "print(\"Path to dataset files:\", path)"
      ],
      "metadata": {
        "colab": {
          "base_uri": "https://localhost:8080/"
        },
        "id": "LHC3PeT0H4wW",
        "outputId": "d5cae017-5d22-40cc-8c50-41ca61b19a21"
      },
      "execution_count": 1,
      "outputs": [
        {
          "output_type": "stream",
          "name": "stdout",
          "text": [
            "Downloading from https://www.kaggle.com/api/v1/datasets/download/birdy654/cifake-real-and-ai-generated-synthetic-images?dataset_version_number=3...\n"
          ]
        },
        {
          "output_type": "stream",
          "name": "stderr",
          "text": [
            "100%|██████████| 105M/105M [00:05<00:00, 18.6MB/s]"
          ]
        },
        {
          "output_type": "stream",
          "name": "stdout",
          "text": [
            "Extracting files...\n"
          ]
        },
        {
          "output_type": "stream",
          "name": "stderr",
          "text": [
            "\n"
          ]
        },
        {
          "output_type": "stream",
          "name": "stdout",
          "text": [
            "Path to dataset files: /root/.cache/kagglehub/datasets/birdy654/cifake-real-and-ai-generated-synthetic-images/versions/3\n"
          ]
        }
      ]
    },
    {
      "cell_type": "markdown",
      "source": [
        "Prepare Dataset"
      ],
      "metadata": {
        "id": "wlPrGWDN5Hp8"
      }
    },
    {
      "cell_type": "code",
      "source": [
        "%cd /root/.cache/kagglehub/datasets/birdy654/cifake-real-and-ai-generated-synthetic-images/versions/3"
      ],
      "metadata": {
        "colab": {
          "base_uri": "https://localhost:8080/"
        },
        "id": "Z71O99ePJJBx",
        "outputId": "c56f8512-2f6b-44f3-a4a3-3e4bd1b6c1d9"
      },
      "execution_count": 2,
      "outputs": [
        {
          "output_type": "stream",
          "name": "stdout",
          "text": [
            "/root/.cache/kagglehub/datasets/birdy654/cifake-real-and-ai-generated-synthetic-images/versions/3\n"
          ]
        }
      ]
    },
    {
      "cell_type": "code",
      "source": [
        "!ls"
      ],
      "metadata": {
        "colab": {
          "base_uri": "https://localhost:8080/"
        },
        "id": "TDWgDGyuJMdl",
        "outputId": "4c43d886-b4fa-4052-c994-a3dd8f6d5bca"
      },
      "execution_count": 3,
      "outputs": [
        {
          "output_type": "stream",
          "name": "stdout",
          "text": [
            "test  train\n"
          ]
        }
      ]
    },
    {
      "cell_type": "code",
      "source": [
        "import os\n",
        "import shutil\n",
        "from pathlib import Path\n",
        "\n",
        "# Define paths\n",
        "base_dir = Path('.')  # The current directory\n",
        "train_dir = base_dir / 'train'\n",
        "validation_dir = base_dir / 'validation'\n",
        "\n",
        "# Create validation directory and subfolders if they don't exist\n",
        "validation_dir.mkdir(exist_ok=True)\n",
        "(validation_dir / 'REAL').mkdir(exist_ok=True)\n",
        "(validation_dir / 'FAKE').mkdir(exist_ok=True)\n",
        "\n",
        "# Function to move a specified number of files\n",
        "def move_files(source_dir, target_dir, num_files):\n",
        "    files = list(source_dir.glob('*'))  # Get all files in source_dir\n",
        "    files_to_move = files[:num_files]  # Select the first num_files\n",
        "\n",
        "    for file in files_to_move:\n",
        "        shutil.move(str(file), str(target_dir))\n",
        "\n",
        "# Move 10,000 images from each subfolder in train to the validation subfolders\n",
        "move_files(train_dir / 'REAL', validation_dir / 'REAL', 10000)\n",
        "move_files(train_dir / 'FAKE', validation_dir / 'FAKE', 10000)\n",
        "\n",
        "print(\"Files moved successfully!\")"
      ],
      "metadata": {
        "colab": {
          "base_uri": "https://localhost:8080/"
        },
        "id": "pUW9nUb5JPTW",
        "outputId": "3dfd5fda-8c2e-4072-8a28-adf4d29da9ff"
      },
      "execution_count": 4,
      "outputs": [
        {
          "output_type": "stream",
          "name": "stdout",
          "text": [
            "Files moved successfully!\n"
          ]
        }
      ]
    },
    {
      "cell_type": "code",
      "source": [
        "!ls"
      ],
      "metadata": {
        "colab": {
          "base_uri": "https://localhost:8080/"
        },
        "id": "Y0fiUAD-Jgxj",
        "outputId": "c499c870-2d7d-4a7c-ab21-5a68591eb746"
      },
      "execution_count": 5,
      "outputs": [
        {
          "output_type": "stream",
          "name": "stdout",
          "text": [
            "test  train  validation\n"
          ]
        }
      ]
    },
    {
      "cell_type": "code",
      "source": [
        "import os\n",
        "\n",
        "print(len(os.listdir(\"train/REAL\")))\n",
        "print(len(os.listdir(\"train/FAKE\")))\n",
        "print(len(os.listdir(\"validation/REAL\")))\n",
        "print(len(os.listdir(\"validation/FAKE\")))"
      ],
      "metadata": {
        "colab": {
          "base_uri": "https://localhost:8080/"
        },
        "id": "RAdlSvUg4_Tm",
        "outputId": "60177c68-5008-44f1-cdcb-c538474157e5"
      },
      "execution_count": 6,
      "outputs": [
        {
          "output_type": "stream",
          "name": "stdout",
          "text": [
            "40000\n",
            "40000\n",
            "10000\n",
            "10000\n"
          ]
        }
      ]
    },
    {
      "cell_type": "code",
      "source": [
        "# prompt: Use the image_dataset_from_directory() function to\n",
        "# load data from the “train”, “validation”, and “test” folders.\n",
        "\n",
        "import tensorflow as tf\n",
        "\n",
        "# Define image size and batch size\n",
        "IMG_WIDTH = 128\n",
        "IMG_HEIGHT = 128\n",
        "image_size = (IMG_WIDTH, IMG_HEIGHT)\n",
        "BATCH_SIZE = 128\n",
        "\n",
        "# Load datasets using image_dataset_from_directory\n",
        "train_ds = tf.keras.utils.image_dataset_from_directory(\n",
        "    \"train\",\n",
        "    labels='inferred',\n",
        "    label_mode='binary',\n",
        "    image_size=image_size,\n",
        "    interpolation='nearest',\n",
        "    batch_size=BATCH_SIZE,\n",
        "    shuffle=True\n",
        ")\n",
        "\n",
        "validation_ds = tf.keras.utils.image_dataset_from_directory(\n",
        "    \"validation\",\n",
        "    labels='inferred',\n",
        "    label_mode='binary',\n",
        "    image_size=image_size,\n",
        "    interpolation='nearest',\n",
        "    batch_size=BATCH_SIZE,\n",
        "    shuffle=False\n",
        ")\n",
        "\n",
        "test_ds = tf.keras.utils.image_dataset_from_directory(\n",
        "    \"test\",\n",
        "    labels='inferred',\n",
        "    label_mode='binary',\n",
        "    image_size=image_size,\n",
        "    interpolation='nearest',\n",
        "    batch_size=BATCH_SIZE,\n",
        "    shuffle=False\n",
        ")"
      ],
      "metadata": {
        "colab": {
          "base_uri": "https://localhost:8080/"
        },
        "id": "2_VrAclK5ZUd",
        "outputId": "80b3fe3a-0640-4015-d01c-01db0125952d"
      },
      "execution_count": 13,
      "outputs": [
        {
          "output_type": "stream",
          "name": "stdout",
          "text": [
            "Found 80000 files belonging to 2 classes.\n",
            "Found 20000 files belonging to 2 classes.\n",
            "Found 20000 files belonging to 2 classes.\n"
          ]
        }
      ]
    },
    {
      "cell_type": "code",
      "source": [
        "import tensorflow as tf\n",
        "from tensorflow.keras import layers, models\n",
        "from tensorflow.keras.applications import EfficientNetB0\n",
        "\n",
        "def create_real_or_fake_model():\n",
        "\n",
        "    base_model = EfficientNetB0(include_top=False, weights='imagenet', input_shape=(128, 128, 3))\n",
        "    #base_model.trainable = False  # Freeze the base model\n",
        "\n",
        "    model = models.Sequential([\n",
        "        # Pretrained EfficientNetB0 model\n",
        "        base_model,\n",
        "\n",
        "        # Global Average Pooling (reduces the spatial dimensions of the output)\n",
        "        layers.GlobalAveragePooling2D(),\n",
        "\n",
        "        # Dropout layer to prevent overfitting\n",
        "        layers.Dropout(0.2),\n",
        "\n",
        "        # Fully connected (Dense) layers\n",
        "        layers.Dense(64, activation='relu'),\n",
        "\n",
        "        # Output layer for binary classification\n",
        "        layers.Dense(1, activation='sigmoid')  # Sigmoid activation for binary output\n",
        "    ])\n",
        "\n",
        "    # Compile the model\n",
        "    model.compile(optimizer='adam',\n",
        "                  loss='binary_crossentropy',\n",
        "                  metrics=['accuracy'])\n",
        "\n",
        "    return model\n",
        "\n",
        "# Instantiate the model\n",
        "model = create_real_or_fake_model()\n",
        "#model.summary()\n"
      ],
      "metadata": {
        "id": "tT481HM65gLf"
      },
      "execution_count": 24,
      "outputs": []
    },
    {
      "cell_type": "code",
      "source": [
        "# prompt: train the model with train and validation sets save the best model into drive.\n",
        "\n",
        "# Define callbacks for saving the best model\n",
        "checkpoint_filepath = 'CIFAKE/bonus_model.keras'  # Specify the path on your Google Drive\n",
        "model_checkpoint_callback = tf.keras.callbacks.ModelCheckpoint(\n",
        "    filepath=checkpoint_filepath,\n",
        "    save_weights_only=False,  # Save the entire model\n",
        "    monitor='val_accuracy',  # Monitor validation accuracy\n",
        "    mode='max',  # Save the model with the highest validation accuracy\n",
        "    save_best_only=True  # Save only the best model\n",
        ")\n",
        "\n",
        "# Train the model\n",
        "epochs = 50  # Adjust the number of epochs as needed\n",
        "history = model.fit(\n",
        "    train_ds,\n",
        "    epochs=epochs,\n",
        "    validation_data=validation_ds,\n",
        "    callbacks=[model_checkpoint_callback] # Add the callback to the training process\n",
        ")"
      ],
      "metadata": {
        "colab": {
          "base_uri": "https://localhost:8080/"
        },
        "id": "HY3_0VdXBnga",
        "outputId": "11c4023c-8f1e-48c4-cf09-e30a65bfe462"
      },
      "execution_count": 25,
      "outputs": [
        {
          "output_type": "stream",
          "name": "stdout",
          "text": [
            "Epoch 1/50\n",
            "\u001b[1m625/625\u001b[0m \u001b[32m━━━━━━━━━━━━━━━━━━━━\u001b[0m\u001b[37m\u001b[0m \u001b[1m115s\u001b[0m 59ms/step - accuracy: 0.9313 - loss: 0.1699 - val_accuracy: 0.9681 - val_loss: 0.0879\n",
            "Epoch 2/50\n",
            "\u001b[1m625/625\u001b[0m \u001b[32m━━━━━━━━━━━━━━━━━━━━\u001b[0m\u001b[37m\u001b[0m \u001b[1m27s\u001b[0m 43ms/step - accuracy: 0.9743 - loss: 0.0686 - val_accuracy: 0.9639 - val_loss: 0.1057\n",
            "Epoch 3/50\n",
            "\u001b[1m625/625\u001b[0m \u001b[32m━━━━━━━━━━━━━━━━━━━━\u001b[0m\u001b[37m\u001b[0m \u001b[1m28s\u001b[0m 44ms/step - accuracy: 0.9796 - loss: 0.0530 - val_accuracy: 0.9748 - val_loss: 0.0767\n",
            "Epoch 4/50\n",
            "\u001b[1m625/625\u001b[0m \u001b[32m━━━━━━━━━━━━━━━━━━━━\u001b[0m\u001b[37m\u001b[0m \u001b[1m27s\u001b[0m 43ms/step - accuracy: 0.9855 - loss: 0.0382 - val_accuracy: 0.9744 - val_loss: 0.0830\n",
            "Epoch 5/50\n",
            "\u001b[1m625/625\u001b[0m \u001b[32m━━━━━━━━━━━━━━━━━━━━\u001b[0m\u001b[37m\u001b[0m \u001b[1m27s\u001b[0m 43ms/step - accuracy: 0.9879 - loss: 0.0337 - val_accuracy: 0.9732 - val_loss: 0.0777\n",
            "Epoch 6/50\n",
            "\u001b[1m625/625\u001b[0m \u001b[32m━━━━━━━━━━━━━━━━━━━━\u001b[0m\u001b[37m\u001b[0m \u001b[1m27s\u001b[0m 43ms/step - accuracy: 0.9897 - loss: 0.0277 - val_accuracy: 0.9747 - val_loss: 0.0818\n",
            "Epoch 7/50\n",
            "\u001b[1m625/625\u001b[0m \u001b[32m━━━━━━━━━━━━━━━━━━━━\u001b[0m\u001b[37m\u001b[0m \u001b[1m27s\u001b[0m 43ms/step - accuracy: 0.9904 - loss: 0.0265 - val_accuracy: 0.9746 - val_loss: 0.1019\n",
            "Epoch 8/50\n",
            "\u001b[1m625/625\u001b[0m \u001b[32m━━━━━━━━━━━━━━━━━━━━\u001b[0m\u001b[37m\u001b[0m \u001b[1m27s\u001b[0m 43ms/step - accuracy: 0.9920 - loss: 0.0220 - val_accuracy: 0.9741 - val_loss: 0.0816\n",
            "Epoch 9/50\n",
            "\u001b[1m625/625\u001b[0m \u001b[32m━━━━━━━━━━━━━━━━━━━━\u001b[0m\u001b[37m\u001b[0m \u001b[1m28s\u001b[0m 44ms/step - accuracy: 0.9926 - loss: 0.0208 - val_accuracy: 0.9766 - val_loss: 0.0960\n",
            "Epoch 10/50\n",
            "\u001b[1m625/625\u001b[0m \u001b[32m━━━━━━━━━━━━━━━━━━━━\u001b[0m\u001b[37m\u001b[0m \u001b[1m28s\u001b[0m 44ms/step - accuracy: 0.9933 - loss: 0.0193 - val_accuracy: 0.9786 - val_loss: 0.0858\n",
            "Epoch 11/50\n",
            "\u001b[1m625/625\u001b[0m \u001b[32m━━━━━━━━━━━━━━━━━━━━\u001b[0m\u001b[37m\u001b[0m \u001b[1m28s\u001b[0m 44ms/step - accuracy: 0.9937 - loss: 0.0173 - val_accuracy: 0.9793 - val_loss: 0.0733\n",
            "Epoch 12/50\n",
            "\u001b[1m625/625\u001b[0m \u001b[32m━━━━━━━━━━━━━━━━━━━━\u001b[0m\u001b[37m\u001b[0m \u001b[1m27s\u001b[0m 43ms/step - accuracy: 0.9943 - loss: 0.0166 - val_accuracy: 0.9773 - val_loss: 0.1005\n",
            "Epoch 13/50\n",
            "\u001b[1m625/625\u001b[0m \u001b[32m━━━━━━━━━━━━━━━━━━━━\u001b[0m\u001b[37m\u001b[0m \u001b[1m27s\u001b[0m 43ms/step - accuracy: 0.9952 - loss: 0.0140 - val_accuracy: 0.9780 - val_loss: 0.0823\n",
            "Epoch 14/50\n",
            "\u001b[1m625/625\u001b[0m \u001b[32m━━━━━━━━━━━━━━━━━━━━\u001b[0m\u001b[37m\u001b[0m \u001b[1m27s\u001b[0m 43ms/step - accuracy: 0.9953 - loss: 0.0138 - val_accuracy: 0.9786 - val_loss: 0.0765\n",
            "Epoch 15/50\n",
            "\u001b[1m625/625\u001b[0m \u001b[32m━━━━━━━━━━━━━━━━━━━━\u001b[0m\u001b[37m\u001b[0m \u001b[1m27s\u001b[0m 43ms/step - accuracy: 0.9954 - loss: 0.0138 - val_accuracy: 0.9776 - val_loss: 0.0860\n",
            "Epoch 16/50\n",
            "\u001b[1m625/625\u001b[0m \u001b[32m━━━━━━━━━━━━━━━━━━━━\u001b[0m\u001b[37m\u001b[0m \u001b[1m27s\u001b[0m 43ms/step - accuracy: 0.9961 - loss: 0.0112 - val_accuracy: 0.9758 - val_loss: 0.0909\n",
            "Epoch 17/50\n",
            "\u001b[1m625/625\u001b[0m \u001b[32m━━━━━━━━━━━━━━━━━━━━\u001b[0m\u001b[37m\u001b[0m \u001b[1m28s\u001b[0m 44ms/step - accuracy: 0.9954 - loss: 0.0129 - val_accuracy: 0.9801 - val_loss: 0.0829\n",
            "Epoch 18/50\n",
            "\u001b[1m625/625\u001b[0m \u001b[32m━━━━━━━━━━━━━━━━━━━━\u001b[0m\u001b[37m\u001b[0m \u001b[1m28s\u001b[0m 44ms/step - accuracy: 0.9965 - loss: 0.0094 - val_accuracy: 0.9808 - val_loss: 0.0743\n",
            "Epoch 19/50\n",
            "\u001b[1m625/625\u001b[0m \u001b[32m━━━━━━━━━━━━━━━━━━━━\u001b[0m\u001b[37m\u001b[0m \u001b[1m27s\u001b[0m 43ms/step - accuracy: 0.9967 - loss: 0.0092 - val_accuracy: 0.9783 - val_loss: 0.0827\n",
            "Epoch 20/50\n",
            "\u001b[1m625/625\u001b[0m \u001b[32m━━━━━━━━━━━━━━━━━━━━\u001b[0m\u001b[37m\u001b[0m \u001b[1m27s\u001b[0m 43ms/step - accuracy: 0.9959 - loss: 0.0115 - val_accuracy: 0.9796 - val_loss: 0.0928\n",
            "Epoch 21/50\n",
            "\u001b[1m625/625\u001b[0m \u001b[32m━━━━━━━━━━━━━━━━━━━━\u001b[0m\u001b[37m\u001b[0m \u001b[1m27s\u001b[0m 43ms/step - accuracy: 0.9959 - loss: 0.0116 - val_accuracy: 0.9711 - val_loss: 0.1309\n",
            "Epoch 22/50\n",
            "\u001b[1m625/625\u001b[0m \u001b[32m━━━━━━━━━━━━━━━━━━━━\u001b[0m\u001b[37m\u001b[0m \u001b[1m27s\u001b[0m 43ms/step - accuracy: 0.9965 - loss: 0.0093 - val_accuracy: 0.9786 - val_loss: 0.1117\n",
            "Epoch 23/50\n",
            "\u001b[1m625/625\u001b[0m \u001b[32m━━━━━━━━━━━━━━━━━━━━\u001b[0m\u001b[37m\u001b[0m \u001b[1m27s\u001b[0m 43ms/step - accuracy: 0.9967 - loss: 0.0085 - val_accuracy: 0.9773 - val_loss: 0.0923\n",
            "Epoch 24/50\n",
            "\u001b[1m625/625\u001b[0m \u001b[32m━━━━━━━━━━━━━━━━━━━━\u001b[0m\u001b[37m\u001b[0m \u001b[1m27s\u001b[0m 43ms/step - accuracy: 0.9971 - loss: 0.0084 - val_accuracy: 0.9745 - val_loss: 0.1311\n",
            "Epoch 25/50\n",
            "\u001b[1m625/625\u001b[0m \u001b[32m━━━━━━━━━━━━━━━━━━━━\u001b[0m\u001b[37m\u001b[0m \u001b[1m28s\u001b[0m 44ms/step - accuracy: 0.9973 - loss: 0.0079 - val_accuracy: 0.9815 - val_loss: 0.0929\n",
            "Epoch 26/50\n",
            "\u001b[1m625/625\u001b[0m \u001b[32m━━━━━━━━━━━━━━━━━━━━\u001b[0m\u001b[37m\u001b[0m \u001b[1m27s\u001b[0m 43ms/step - accuracy: 0.9970 - loss: 0.0083 - val_accuracy: 0.9813 - val_loss: 0.0819\n",
            "Epoch 27/50\n",
            "\u001b[1m625/625\u001b[0m \u001b[32m━━━━━━━━━━━━━━━━━━━━\u001b[0m\u001b[37m\u001b[0m \u001b[1m27s\u001b[0m 43ms/step - accuracy: 0.9968 - loss: 0.0093 - val_accuracy: 0.9754 - val_loss: 0.0999\n",
            "Epoch 28/50\n",
            "\u001b[1m625/625\u001b[0m \u001b[32m━━━━━━━━━━━━━━━━━━━━\u001b[0m\u001b[37m\u001b[0m \u001b[1m27s\u001b[0m 43ms/step - accuracy: 0.9975 - loss: 0.0076 - val_accuracy: 0.9787 - val_loss: 0.0960\n",
            "Epoch 29/50\n",
            "\u001b[1m625/625\u001b[0m \u001b[32m━━━━━━━━━━━━━━━━━━━━\u001b[0m\u001b[37m\u001b[0m \u001b[1m27s\u001b[0m 43ms/step - accuracy: 0.9972 - loss: 0.0078 - val_accuracy: 0.9795 - val_loss: 0.0876\n",
            "Epoch 30/50\n",
            "\u001b[1m625/625\u001b[0m \u001b[32m━━━━━━━━━━━━━━━━━━━━\u001b[0m\u001b[37m\u001b[0m \u001b[1m27s\u001b[0m 43ms/step - accuracy: 0.9978 - loss: 0.0066 - val_accuracy: 0.9801 - val_loss: 0.0913\n",
            "Epoch 31/50\n",
            "\u001b[1m625/625\u001b[0m \u001b[32m━━━━━━━━━━━━━━━━━━━━\u001b[0m\u001b[37m\u001b[0m \u001b[1m27s\u001b[0m 43ms/step - accuracy: 0.9973 - loss: 0.0078 - val_accuracy: 0.9808 - val_loss: 0.0808\n",
            "Epoch 32/50\n",
            "\u001b[1m625/625\u001b[0m \u001b[32m━━━━━━━━━━━━━━━━━━━━\u001b[0m\u001b[37m\u001b[0m \u001b[1m27s\u001b[0m 43ms/step - accuracy: 0.9968 - loss: 0.0082 - val_accuracy: 0.9783 - val_loss: 0.0995\n",
            "Epoch 33/50\n",
            "\u001b[1m625/625\u001b[0m \u001b[32m━━━━━━━━━━━━━━━━━━━━\u001b[0m\u001b[37m\u001b[0m \u001b[1m27s\u001b[0m 43ms/step - accuracy: 0.9981 - loss: 0.0059 - val_accuracy: 0.9775 - val_loss: 0.1086\n",
            "Epoch 34/50\n",
            "\u001b[1m625/625\u001b[0m \u001b[32m━━━━━━━━━━━━━━━━━━━━\u001b[0m\u001b[37m\u001b[0m \u001b[1m27s\u001b[0m 43ms/step - accuracy: 0.9979 - loss: 0.0061 - val_accuracy: 0.9793 - val_loss: 0.0889\n",
            "Epoch 35/50\n",
            "\u001b[1m625/625\u001b[0m \u001b[32m━━━━━━━━━━━━━━━━━━━━\u001b[0m\u001b[37m\u001b[0m \u001b[1m27s\u001b[0m 43ms/step - accuracy: 0.9982 - loss: 0.0054 - val_accuracy: 0.9814 - val_loss: 0.0954\n",
            "Epoch 36/50\n",
            "\u001b[1m625/625\u001b[0m \u001b[32m━━━━━━━━━━━━━━━━━━━━\u001b[0m\u001b[37m\u001b[0m \u001b[1m27s\u001b[0m 43ms/step - accuracy: 0.9980 - loss: 0.0059 - val_accuracy: 0.9764 - val_loss: 0.1213\n",
            "Epoch 37/50\n",
            "\u001b[1m625/625\u001b[0m \u001b[32m━━━━━━━━━━━━━━━━━━━━\u001b[0m\u001b[37m\u001b[0m \u001b[1m27s\u001b[0m 43ms/step - accuracy: 0.9976 - loss: 0.0068 - val_accuracy: 0.9810 - val_loss: 0.0990\n",
            "Epoch 38/50\n",
            "\u001b[1m625/625\u001b[0m \u001b[32m━━━━━━━━━━━━━━━━━━━━\u001b[0m\u001b[37m\u001b[0m \u001b[1m27s\u001b[0m 43ms/step - accuracy: 0.9983 - loss: 0.0053 - val_accuracy: 0.9793 - val_loss: 0.1008\n",
            "Epoch 39/50\n",
            "\u001b[1m625/625\u001b[0m \u001b[32m━━━━━━━━━━━━━━━━━━━━\u001b[0m\u001b[37m\u001b[0m \u001b[1m27s\u001b[0m 43ms/step - accuracy: 0.9973 - loss: 0.0075 - val_accuracy: 0.9811 - val_loss: 0.0808\n",
            "Epoch 40/50\n",
            "\u001b[1m625/625\u001b[0m \u001b[32m━━━━━━━━━━━━━━━━━━━━\u001b[0m\u001b[37m\u001b[0m \u001b[1m27s\u001b[0m 43ms/step - accuracy: 0.9981 - loss: 0.0059 - val_accuracy: 0.9750 - val_loss: 0.1125\n",
            "Epoch 41/50\n",
            "\u001b[1m625/625\u001b[0m \u001b[32m━━━━━━━━━━━━━━━━━━━━\u001b[0m\u001b[37m\u001b[0m \u001b[1m27s\u001b[0m 44ms/step - accuracy: 0.9982 - loss: 0.0051 - val_accuracy: 0.9803 - val_loss: 0.1083\n",
            "Epoch 42/50\n",
            "\u001b[1m625/625\u001b[0m \u001b[32m━━━━━━━━━━━━━━━━━━━━\u001b[0m\u001b[37m\u001b[0m \u001b[1m27s\u001b[0m 43ms/step - accuracy: 0.9979 - loss: 0.0058 - val_accuracy: 0.9790 - val_loss: 0.1035\n",
            "Epoch 43/50\n",
            "\u001b[1m625/625\u001b[0m \u001b[32m━━━━━━━━━━━━━━━━━━━━\u001b[0m\u001b[37m\u001b[0m \u001b[1m28s\u001b[0m 44ms/step - accuracy: 0.9983 - loss: 0.0053 - val_accuracy: 0.9819 - val_loss: 0.0853\n",
            "Epoch 44/50\n",
            "\u001b[1m625/625\u001b[0m \u001b[32m━━━━━━━━━━━━━━━━━━━━\u001b[0m\u001b[37m\u001b[0m \u001b[1m27s\u001b[0m 43ms/step - accuracy: 0.9987 - loss: 0.0038 - val_accuracy: 0.9804 - val_loss: 0.0981\n",
            "Epoch 45/50\n",
            "\u001b[1m625/625\u001b[0m \u001b[32m━━━━━━━━━━━━━━━━━━━━\u001b[0m\u001b[37m\u001b[0m \u001b[1m28s\u001b[0m 45ms/step - accuracy: 0.9977 - loss: 0.0063 - val_accuracy: 0.9822 - val_loss: 0.0926\n",
            "Epoch 46/50\n",
            "\u001b[1m625/625\u001b[0m \u001b[32m━━━━━━━━━━━━━━━━━━━━\u001b[0m\u001b[37m\u001b[0m \u001b[1m27s\u001b[0m 43ms/step - accuracy: 0.9984 - loss: 0.0049 - val_accuracy: 0.9794 - val_loss: 0.1028\n",
            "Epoch 47/50\n",
            "\u001b[1m625/625\u001b[0m \u001b[32m━━━━━━━━━━━━━━━━━━━━\u001b[0m\u001b[37m\u001b[0m \u001b[1m27s\u001b[0m 43ms/step - accuracy: 0.9981 - loss: 0.0054 - val_accuracy: 0.9797 - val_loss: 0.0984\n",
            "Epoch 48/50\n",
            "\u001b[1m625/625\u001b[0m \u001b[32m━━━━━━━━━━━━━━━━━━━━\u001b[0m\u001b[37m\u001b[0m \u001b[1m28s\u001b[0m 45ms/step - accuracy: 0.9985 - loss: 0.0043 - val_accuracy: 0.9826 - val_loss: 0.0811\n",
            "Epoch 49/50\n",
            "\u001b[1m625/625\u001b[0m \u001b[32m━━━━━━━━━━━━━━━━━━━━\u001b[0m\u001b[37m\u001b[0m \u001b[1m27s\u001b[0m 43ms/step - accuracy: 0.9983 - loss: 0.0048 - val_accuracy: 0.9804 - val_loss: 0.0846\n",
            "Epoch 50/50\n",
            "\u001b[1m625/625\u001b[0m \u001b[32m━━━━━━━━━━━━━━━━━━━━\u001b[0m\u001b[37m\u001b[0m \u001b[1m27s\u001b[0m 43ms/step - accuracy: 0.9989 - loss: 0.0035 - val_accuracy: 0.9823 - val_loss: 0.0893\n"
          ]
        }
      ]
    },
    {
      "cell_type": "code",
      "source": [
        "loss, accuracy = model.evaluate(test_ds)\n",
        "\n",
        "print(f\"Test Loss: {loss}\")\n",
        "print(f\"Test Accuracy: {accuracy}\")"
      ],
      "metadata": {
        "colab": {
          "base_uri": "https://localhost:8080/"
        },
        "id": "zWUwDzeKOgv_",
        "outputId": "e713b8b9-df56-4743-9f35-b5bd718513bc"
      },
      "execution_count": 26,
      "outputs": [
        {
          "output_type": "stream",
          "name": "stdout",
          "text": [
            "\u001b[1m157/157\u001b[0m \u001b[32m━━━━━━━━━━━━━━━━━━━━\u001b[0m\u001b[37m\u001b[0m \u001b[1m2s\u001b[0m 12ms/step - accuracy: 0.9838 - loss: 0.0811\n",
            "Test Loss: 0.09747299551963806\n",
            "Test Accuracy: 0.9811499714851379\n"
          ]
        }
      ]
    }
  ]
}